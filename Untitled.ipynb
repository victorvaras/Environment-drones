{
 "cells": [
  {
   "cell_type": "code",
   "execution_count": 1,
   "id": "589fe3ab-b2d1-4781-a912-7e41f9b38bbc",
   "metadata": {},
   "outputs": [
    {
     "ename": "ModuleNotFoundError",
     "evalue": "No module named 'env.environment.gymnasium'",
     "output_type": "error",
     "traceback": [
      "\u001b[31m---------------------------------------------------------------------------\u001b[39m",
      "\u001b[31mModuleNotFoundError\u001b[39m                       Traceback (most recent call last)",
      "\u001b[36mCell\u001b[39m\u001b[36m \u001b[39m\u001b[32mIn[1]\u001b[39m\u001b[32m, line 9\u001b[39m\n\u001b[32m      6\u001b[39m     sys.path.insert(\u001b[32m0\u001b[39m, \u001b[38;5;28mstr\u001b[39m(project_root))\n\u001b[32m      8\u001b[39m \u001b[38;5;28;01mimport\u001b[39;00m\u001b[38;5;250m \u001b[39m\u001b[34;01mnumpy\u001b[39;00m\u001b[38;5;250m \u001b[39m\u001b[38;5;28;01mas\u001b[39;00m\u001b[38;5;250m \u001b[39m\u001b[34;01mnp\u001b[39;00m\n\u001b[32m----> \u001b[39m\u001b[32m9\u001b[39m \u001b[38;5;28;01mfrom\u001b[39;00m\u001b[38;5;250m \u001b[39m\u001b[34;01menv\u001b[39;00m\u001b[34;01m.\u001b[39;00m\u001b[34;01menvironment\u001b[39;00m\u001b[34;01m.\u001b[39;00m\u001b[34;01mgymnasium\u001b[39;00m\u001b[38;5;250m \u001b[39m\u001b[38;5;28;01mimport\u001b[39;00m DroneEnv\n\u001b[32m     10\u001b[39m \u001b[38;5;28;01mfrom\u001b[39;00m\u001b[38;5;250m \u001b[39m\u001b[34;01mIPython\u001b[39;00m\u001b[34;01m.\u001b[39;00m\u001b[34;01mdisplay\u001b[39;00m\u001b[38;5;250m \u001b[39m\u001b[38;5;28;01mimport\u001b[39;00m clear_output, display\n\u001b[32m     11\u001b[39m \u001b[38;5;28;01mimport\u001b[39;00m\u001b[38;5;250m \u001b[39m\u001b[34;01mmatplotlib\u001b[39;00m\u001b[34;01m.\u001b[39;00m\u001b[34;01mpyplot\u001b[39;00m\u001b[38;5;250m \u001b[39m\u001b[38;5;28;01mas\u001b[39;00m\u001b[38;5;250m \u001b[39m\u001b[34;01mplt\u001b[39;00m\n",
      "\u001b[31mModuleNotFoundError\u001b[39m: No module named 'env.environment.gymnasium'"
     ]
    }
   ],
   "source": [
    "# Celda 1 — imports y path\n",
    "from pathlib import Path\n",
    "import sys, time\n",
    "project_root = Path(\"/home/victor/proyectos_dron/Environment drones\")\n",
    "if str(project_root) not in sys.path:\n",
    "    sys.path.insert(0, str(project_root))\n",
    "\n",
    "import numpy as np\n",
    "from env.environment.gymnasium import DroneEnv\n",
    "from IPython.display import clear_output, display\n",
    "import matplotlib.pyplot as plt\n",
    "\n"
   ]
  },
  {
   "cell_type": "code",
   "execution_count": null,
   "id": "a828dd27-30b3-47bf-ae42-7ea8203c69a7",
   "metadata": {},
   "outputs": [],
   "source": [
    "# Celda 2 — crear env con frames RGB para mostrar en notebook\n",
    "env = DroneEnv(render_mode=\"rgb_array\", scene_name=\"munich\", max_steps=400)\n",
    "obs, info = env.reset(seed=0)\n",
    "\n",
    "# Un paso para generar primer frame\n",
    "frame = env.render()\n",
    "\n",
    "fig, ax = plt.subplots(figsize=(6,6))\n",
    "im = ax.imshow(frame)\n",
    "ax.axis(\"off\")\n",
    "display(fig)\n",
    "\n",
    "for t in range(200):\n",
    "    # ejemplo: órbita suave\n",
    "    a = np.array([3.0*np.cos(t/15), 3.0*np.sin(t/15), 0.0], dtype=float)\n",
    "    obs, rew, done, trunc, info = env.step(a)\n",
    "    frame = env.render()              # <- nuevo frame RGB del estado actual\n",
    "    im.set_data(frame)\n",
    "    clear_output(wait=True)\n",
    "    display(fig)\n",
    "    plt.pause(0.001)\n",
    "    if done or trunc:\n",
    "        break\n",
    "\n",
    "env.close()\n",
    "plt.close(fig)\n"
   ]
  },
  {
   "cell_type": "code",
   "execution_count": null,
   "id": "048422c9-4b86-407f-8da6-18d364cbfc65",
   "metadata": {},
   "outputs": [],
   "source": [
    "# Celda 3 — radio map renderizado por Sionna RT (PNG)\n",
    "from sionna.rt import Camera, RadioMapSolver\n",
    "from IPython.display import Image, display\n",
    "\n",
    "# Accede a la misma escena del env\n",
    "rt = env.rt\n",
    "\n",
    "# (opcional) mueve TX a una posición de interés antes de renderizar\n",
    "# rt.move_tx(np.array([0.0, 0.0, 20.0]))\n",
    "\n",
    "# Radio map de baja resolución para que sea rápido (ajusta a gusto)\n",
    "rm_solver = RadioMapSolver()\n",
    "radio_map = rm_solver(\n",
    "    scene=rt.scene,\n",
    "    max_depth=rt.max_depth,\n",
    "    cell_size=[2, 2],        # celdas más grandes = más rápido\n",
    "    samples_per_tx=5_000     # menos samples = más rápido\n",
    ")\n",
    "\n",
    "cam = Camera(position=[-250, 250, 150], look_at=[-15, 30, 28])\n",
    "out_path = \"munich_radiomap.png\"\n",
    "rt.scene.render_to_file(camera=cam, radio_map=radio_map, filename=out_path, resolution=[1000, 750])\n",
    "\n",
    "display(Image(filename=out_path))\n"
   ]
  },
  {
   "cell_type": "code",
   "execution_count": null,
   "id": "e496c6f4-5372-4d8f-be1b-72397c0b51fe",
   "metadata": {},
   "outputs": [],
   "source": []
  }
 ],
 "metadata": {
  "kernelspec": {
   "display_name": "Python (proyectos_dron)",
   "language": "python",
   "name": "proyectos_dron"
  },
  "language_info": {
   "codemirror_mode": {
    "name": "ipython",
    "version": 3
   },
   "file_extension": ".py",
   "mimetype": "text/x-python",
   "name": "python",
   "nbconvert_exporter": "python",
   "pygments_lexer": "ipython3",
   "version": "3.11.13"
  }
 },
 "nbformat": 4,
 "nbformat_minor": 5
}
