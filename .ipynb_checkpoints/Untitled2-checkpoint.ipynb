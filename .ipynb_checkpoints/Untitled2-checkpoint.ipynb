{
 "cells": [
  {
   "cell_type": "code",
   "execution_count": 2,
   "id": "d6ae53ba-ae60-4123-8aea-a6bdf213149f",
   "metadata": {},
   "outputs": [
    {
     "name": "stdout",
     "output_type": "stream",
     "text": [
      "CUDA_VISIBLE_DEVICES: None\n",
      "Tue Sep  2 12:53:09 2025       \n"
     ]
    }
   ],
   "source": [
    "# Diagnóstico mínimo: ¿la sesión ve la GPU?\n",
    "import os, subprocess\n",
    "print(\"CUDA_VISIBLE_DEVICES:\", os.environ.get(\"CUDA_VISIBLE_DEVICES\"))\n",
    "\n",
    "try:\n",
    "    out = subprocess.check_output([\"nvidia-smi\"], text=True, stderr=subprocess.STDOUT)\n",
    "    print(out.splitlines()[0])\n",
    "except Exception as e:\n",
    "    print(\"nvidia-smi no funciona desde este kernel:\", e)\n"
   ]
  },
  {
   "cell_type": "code",
   "execution_count": 1,
   "id": "00c4eb20-d1b2-49f4-be93-6707ee24e474",
   "metadata": {},
   "outputs": [
    {
     "ename": "ImportError",
     "evalue": "jit_cuda_init(): the CUDA backend is not available because cuInit() failed.\nThere are two common explanations for this type of failure:\n\n 1. your computer simply does not contain a graphics card that supports CUDA.\n\n 2. your CUDA kernel module and CUDA library are out of sync. Try to see if you\n    can run a utility like 'nvidia-smi'. If not, a reboot will likely fix this\n    issue. Otherwise reinstall your graphics driver. \n\n The specific error message produced by cuInit was\n   \"unknown error\"",
     "output_type": "error",
     "traceback": [
      "\u001b[31m---------------------------------------------------------------------------\u001b[39m",
      "\u001b[31mImportError\u001b[39m                               Traceback (most recent call last)",
      "\u001b[36mCell\u001b[39m\u001b[36m \u001b[39m\u001b[32mIn[1]\u001b[39m\u001b[32m, line 11\u001b[39m\n\u001b[32m      9\u001b[39m \u001b[38;5;28;01mimport\u001b[39;00m\u001b[38;5;250m \u001b[39m\u001b[34;01mdrjit\u001b[39;00m\u001b[38;5;250m \u001b[39m\u001b[38;5;28;01mas\u001b[39;00m\u001b[38;5;250m \u001b[39m\u001b[34;01mdr\u001b[39;00m\n\u001b[32m     10\u001b[39m TRY_GPU = \u001b[38;5;28;01mTrue\u001b[39;00m  \u001b[38;5;66;03m# True = CUDA, False = CPU\u001b[39;00m\n\u001b[32m---> \u001b[39m\u001b[32m11\u001b[39m \u001b[43mmi\u001b[49m\u001b[43m.\u001b[49m\u001b[43mset_variant\u001b[49m\u001b[43m(\u001b[49m\u001b[33;43m'\u001b[39;49m\u001b[33;43mcuda_ad_rgb\u001b[39;49m\u001b[33;43m'\u001b[39;49m\u001b[43m \u001b[49m\u001b[38;5;28;43;01mif\u001b[39;49;00m\u001b[43m \u001b[49m\u001b[43mTRY_GPU\u001b[49m\u001b[43m \u001b[49m\u001b[38;5;28;43;01melse\u001b[39;49;00m\u001b[43m \u001b[49m\u001b[33;43m'\u001b[39;49m\u001b[33;43mllvm_ad_rgb\u001b[39;49m\u001b[33;43m'\u001b[39;49m\u001b[43m)\u001b[49m\n\u001b[32m     12\u001b[39m dr.set_flag(dr.JitFlag.Debug, \u001b[38;5;28;01mTrue\u001b[39;00m)  \u001b[38;5;66;03m# pon False cuando todo esté estable\u001b[39;00m\n\u001b[32m     13\u001b[39m \u001b[38;5;28mprint\u001b[39m(\u001b[33m\"\u001b[39m\u001b[33mMitsuba variant activa:\u001b[39m\u001b[33m\"\u001b[39m, mi.variant())\n",
      "\u001b[31mImportError\u001b[39m: jit_cuda_init(): the CUDA backend is not available because cuInit() failed.\nThere are two common explanations for this type of failure:\n\n 1. your computer simply does not contain a graphics card that supports CUDA.\n\n 2. your CUDA kernel module and CUDA library are out of sync. Try to see if you\n    can run a utility like 'nvidia-smi'. If not, a reboot will likely fix this\n    issue. Otherwise reinstall your graphics driver. \n\n The specific error message produced by cuInit was\n   \"unknown error\""
     ]
    }
   ],
   "source": [
    "# === Selección idempotente del backend de Mitsuba/Dr.Jit (GPU por defecto) ===\n",
    "import sys\n",
    "if 'mitsuba' in sys.modules:\n",
    "    mi = sys.modules['mitsuba']\n",
    "    import drjit as dr\n",
    "    print(\"Mitsuba ya cargado. Variant:\", mi.variant())\n",
    "else:\n",
    "    import mitsuba as mi\n",
    "    import drjit as dr\n",
    "    TRY_GPU = True  # True = CUDA, False = CPU\n",
    "    mi.set_variant('cuda_ad_rgb' if TRY_GPU else 'llvm_ad_rgb')\n",
    "    dr.set_flag(dr.JitFlag.Debug, True)  # pon False cuando todo esté estable\n",
    "    print(\"Mitsuba variant activa:\", mi.variant())\n"
   ]
  },
  {
   "cell_type": "code",
   "execution_count": null,
   "id": "6cf131a4-d550-45f8-b840-6e149f863c5d",
   "metadata": {},
   "outputs": [],
   "source": []
  }
 ],
 "metadata": {
  "kernelspec": {
   "display_name": "Python (proyectos_dron)",
   "language": "python",
   "name": "proyectos_dron"
  },
  "language_info": {
   "codemirror_mode": {
    "name": "ipython",
    "version": 3
   },
   "file_extension": ".py",
   "mimetype": "text/x-python",
   "name": "python",
   "nbconvert_exporter": "python",
   "pygments_lexer": "ipython3",
   "version": "3.11.13"
  }
 },
 "nbformat": 4,
 "nbformat_minor": 5
}
