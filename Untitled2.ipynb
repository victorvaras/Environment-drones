{
 "cells": [
  {
   "cell_type": "code",
   "execution_count": 1,
   "id": "6cf131a4-d550-45f8-b840-6e149f863c5d",
   "metadata": {},
   "outputs": [
    {
     "name": "stdout",
     "output_type": "stream",
     "text": [
      "libcuda.so.1 cargada OK\n",
      "No pude activar CUDA (cuInit falló). Detalle: jit_cuda_init(): the CUDA backend is not available because cuInit() failed.\n",
      "There are two common explanations for this type of failure:\n",
      "\n",
      " 1. your computer simply does not contain a graphics card that supports CUDA.\n",
      "\n",
      " 2. your CUDA kernel module and CUDA library are out of sync. Try to see if you\n",
      "    can run a utility like 'nvidia-smi'. If not, a reboot will likely fix this\n",
      "    issue. Otherwise reinstall your graphics driver. \n",
      "\n",
      " The specific error message produced by cuInit was\n",
      "   \"unknown error\"\n",
      "Paso a CPU (llvm_ad_rgb) para seguir trabajando.\n",
      "Variant final activa: llvm_ad_rgb\n",
      "Variantes disponibles: ['scalar_rgb', 'scalar_spectral', 'scalar_spectral_polarized', 'llvm_ad_rgb', 'llvm_ad_mono', 'llvm_ad_mono_polarized', 'llvm_ad_spectral', 'llvm_ad_spectral_polarized', 'cuda_ad_rgb', 'cuda_ad_mono', 'cuda_ad_mono_polarized', 'cuda_ad_spectral', 'cuda_ad_spectral_polarized']\n"
     ]
    }
   ],
   "source": [
    "# === Fix & retry CUDA init (Mitsuba/Dr.Jit) ===\n",
    "# Ejecuta esta celda ANTES de importar sionna o tu env\n",
    "import os, sys, ctypes\n",
    "\n",
    "# 1) Apunta explícitamente a la GPU 0 (ajusta si tienes varias)\n",
    "os.environ[\"CUDA_VISIBLE_DEVICES\"] = \"0\"\n",
    "\n",
    "# 2) Más logs de Dr.Jit/Mitsuba (opcional mientras depuramos)\n",
    "os.environ[\"DRJIT_LOG_LEVEL\"] = \"debug\"\n",
    "os.environ[\"MI_LOG_LEVEL\"] = \"debug\"\n",
    "\n",
    "# 3) Si Mitsuba ya está importado, no vuelvas a set_variant (evita warnings)\n",
    "if 'mitsuba' in sys.modules:\n",
    "    mi = sys.modules['mitsuba']\n",
    "    import drjit as dr\n",
    "    print(\"Mitsuba ya cargado. Variant:\", mi.variant())\n",
    "else:\n",
    "    # 4) Sanity: intenta cargar libcuda directamente\n",
    "    try:\n",
    "        ctypes.CDLL(\"libcuda.so.1\")\n",
    "        print(\"libcuda.so.1 cargada OK\")\n",
    "    except OSError as e:\n",
    "        print(\"No pude cargar libcuda.so.1:\", e)\n",
    "\n",
    "    import mitsuba as mi\n",
    "    import drjit as dr\n",
    "    try:\n",
    "        mi.set_variant('cuda_ad_rgb')  # ← intentamos GPU\n",
    "        print(\"Activado backend CUDA:\", mi.variant())\n",
    "    except Exception as e:\n",
    "        print(\"No pude activar CUDA (cuInit falló). Detalle:\", e)\n",
    "        print(\"Paso a CPU (llvm_ad_rgb) para seguir trabajando.\")\n",
    "        mi.set_variant('llvm_ad_rgb')\n",
    "\n",
    "    # 5) Activa comprobaciones (útil ahora; pon False luego para rendimiento)\n",
    "    dr.set_flag(dr.JitFlag.Debug, True)\n",
    "\n",
    "print(\"Variant final activa:\", mi.variant())\n",
    "print(\"Variantes disponibles:\", mi.variants())\n"
   ]
  },
  {
   "cell_type": "code",
   "execution_count": null,
   "id": "f3bc26f7-8ef8-4315-97ca-cfa4b8617f2c",
   "metadata": {},
   "outputs": [],
   "source": []
  }
 ],
 "metadata": {
  "kernelspec": {
   "display_name": "Python (proyectos_dron)",
   "language": "python",
   "name": "proyectos_dron"
  },
  "language_info": {
   "codemirror_mode": {
    "name": "ipython",
    "version": 3
   },
   "file_extension": ".py",
   "mimetype": "text/x-python",
   "name": "python",
   "nbconvert_exporter": "python",
   "pygments_lexer": "ipython3",
   "version": "3.11.13"
  }
 },
 "nbformat": 4,
 "nbformat_minor": 5
}
