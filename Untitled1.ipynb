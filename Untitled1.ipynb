{
 "cells": [
  {
   "cell_type": "code",
   "execution_count": 3,
   "id": "f506369b-d3f0-4d86-aa65-2ca0bfe61a23",
   "metadata": {},
   "outputs": [
    {
     "name": "stdout",
     "output_type": "stream",
     "text": [
      "Mitsuba ya cargado. Variant: None\n"
     ]
    }
   ],
   "source": [
    "# === Selección idempotente del backend de Mitsuba/Dr.Jit ===\n",
    "import sys\n",
    "if 'mitsuba' in sys.modules:\n",
    "    # Ya estaba importado: NO volver a set_variant (evita warnings)\n",
    "    mi = sys.modules['mitsuba']\n",
    "    import drjit as dr\n",
    "    print(\"Mitsuba ya cargado. Variant:\", mi.variant())\n",
    "else:\n",
    "    import mitsuba as mi\n",
    "    import drjit as dr\n",
    "    TRY_GPU = True  # True=CUDA, False=CPU\n",
    "    mi.set_variant('cuda_ad_rgb' if TRY_GPU else 'llvm_ad_rgb')\n",
    "    dr.set_flag(dr.JitFlag.Debug, True)  # puedes desactivar luego por rendimiento\n",
    "    print(\"Mitsuba variant activa:\", mi.variant())\n"
   ]
  },
  {
   "cell_type": "code",
   "execution_count": 5,
   "id": "166308bb-5465-432e-8b69-8ec2b5b1b48d",
   "metadata": {},
   "outputs": [
    {
     "name": "stdout",
     "output_type": "stream",
     "text": [
      "PROJECT_ROOT => /home/victor/proyectos_dron/Environment drones\n"
     ]
    }
   ],
   "source": [
    "# ===== 1) Ajustar ruta del proyecto y cargar paquete env =====\n",
    "from pathlib import Path\n",
    "import sys, os\n",
    "\n",
    "project_root = Path(\"/home/victor/proyectos_dron/Environment drones\")  # <- EDITA si difiere\n",
    "assert project_root.is_dir(), f\"Revisa la ruta del proyecto: {project_root}\"\n",
    "if str(project_root) not in sys.path:\n",
    "    sys.path.insert(0, str(project_root))\n",
    "\n",
    "os.chdir(project_root)\n",
    "print(\"PROJECT_ROOT =>\", project_root)\n",
    "\n"
   ]
  },
  {
   "cell_type": "code",
   "execution_count": 6,
   "id": "70c3fb4f-47b4-4835-abe6-387e36f31e10",
   "metadata": {},
   "outputs": [
    {
     "ename": "TypeError",
     "evalue": "look_at(): incompatible function arguments. The following argument types are supported:\n    1. look_at(self, origin: mitsuba.ScalarPoint3f, target: mitsuba.ScalarPoint3f, up: mitsuba.ScalarPoint3f) -> mitsuba.ScalarTransform4f\n\nInvoked with types: kwargs = { origin: list, target: list, up: list }",
     "output_type": "error",
     "traceback": [
      "\u001b[31m---------------------------------------------------------------------------\u001b[39m",
      "\u001b[31mTypeError\u001b[39m                                 Traceback (most recent call last)",
      "\u001b[36mCell\u001b[39m\u001b[36m \u001b[39m\u001b[32mIn[6]\u001b[39m\u001b[32m, line 8\u001b[39m\n\u001b[32m      1\u001b[39m \u001b[38;5;66;03m# (Opcional) Verifica que Mitsuba pueda renderizar con el backend actual\u001b[39;00m\n\u001b[32m      2\u001b[39m \u001b[38;5;28;01mimport\u001b[39;00m\u001b[38;5;250m \u001b[39m\u001b[34;01mmitsuba\u001b[39;00m\u001b[38;5;250m \u001b[39m\u001b[38;5;28;01mas\u001b[39;00m\u001b[38;5;250m \u001b[39m\u001b[34;01mmi\u001b[39;00m\n\u001b[32m      3\u001b[39m scene = mi.load_dict({\n\u001b[32m      4\u001b[39m     \u001b[33m\"\u001b[39m\u001b[33mtype\u001b[39m\u001b[33m\"\u001b[39m: \u001b[33m\"\u001b[39m\u001b[33mscene\u001b[39m\u001b[33m\"\u001b[39m,\n\u001b[32m      5\u001b[39m     \u001b[33m\"\u001b[39m\u001b[33mintegrator\u001b[39m\u001b[33m\"\u001b[39m: {\u001b[33m\"\u001b[39m\u001b[33mtype\u001b[39m\u001b[33m\"\u001b[39m: \u001b[33m\"\u001b[39m\u001b[33mpath\u001b[39m\u001b[33m\"\u001b[39m},\n\u001b[32m      6\u001b[39m     \u001b[33m\"\u001b[39m\u001b[33msensor\u001b[39m\u001b[33m\"\u001b[39m: {\n\u001b[32m      7\u001b[39m         \u001b[33m\"\u001b[39m\u001b[33mtype\u001b[39m\u001b[33m\"\u001b[39m: \u001b[33m\"\u001b[39m\u001b[33mperspective\u001b[39m\u001b[33m\"\u001b[39m,\n\u001b[32m----> \u001b[39m\u001b[32m8\u001b[39m         \u001b[33m\"\u001b[39m\u001b[33mto_world\u001b[39m\u001b[33m\"\u001b[39m: \u001b[43mmi\u001b[49m\u001b[43m.\u001b[49m\u001b[43mScalarTransform4f\u001b[49m\u001b[43m.\u001b[49m\u001b[43mlook_at\u001b[49m\u001b[43m(\u001b[49m\n\u001b[32m      9\u001b[39m \u001b[43m            \u001b[49m\u001b[43morigin\u001b[49m\u001b[43m=\u001b[49m\u001b[43m[\u001b[49m\u001b[32;43m0\u001b[39;49m\u001b[43m,\u001b[49m\u001b[43m \u001b[49m\u001b[32;43m0\u001b[39;49m\u001b[43m,\u001b[49m\u001b[43m \u001b[49m\u001b[32;43m5\u001b[39;49m\u001b[43m]\u001b[49m\u001b[43m,\u001b[49m\u001b[43m \u001b[49m\u001b[43mtarget\u001b[49m\u001b[43m=\u001b[49m\u001b[43m[\u001b[49m\u001b[32;43m0\u001b[39;49m\u001b[43m,\u001b[49m\u001b[43m \u001b[49m\u001b[32;43m0\u001b[39;49m\u001b[43m,\u001b[49m\u001b[43m \u001b[49m\u001b[32;43m0\u001b[39;49m\u001b[43m]\u001b[49m\u001b[43m,\u001b[49m\u001b[43m \u001b[49m\u001b[43mup\u001b[49m\u001b[43m=\u001b[49m\u001b[43m[\u001b[49m\u001b[32;43m0\u001b[39;49m\u001b[43m,\u001b[49m\u001b[43m \u001b[49m\u001b[32;43m1\u001b[39;49m\u001b[43m,\u001b[49m\u001b[43m \u001b[49m\u001b[32;43m0\u001b[39;49m\u001b[43m]\u001b[49m\n\u001b[32m     10\u001b[39m \u001b[43m        \u001b[49m\u001b[43m)\u001b[49m,\n\u001b[32m     11\u001b[39m         \u001b[33m\"\u001b[39m\u001b[33mfilm\u001b[39m\u001b[33m\"\u001b[39m: {\u001b[33m\"\u001b[39m\u001b[33mtype\u001b[39m\u001b[33m\"\u001b[39m: \u001b[33m\"\u001b[39m\u001b[33mhdrfilm\u001b[39m\u001b[33m\"\u001b[39m, \u001b[33m\"\u001b[39m\u001b[33mwidth\u001b[39m\u001b[33m\"\u001b[39m: \u001b[32m64\u001b[39m, \u001b[33m\"\u001b[39m\u001b[33mheight\u001b[39m\u001b[33m\"\u001b[39m: \u001b[32m64\u001b[39m}\n\u001b[32m     12\u001b[39m     },\n\u001b[32m     13\u001b[39m     \u001b[33m\"\u001b[39m\u001b[33memitter\u001b[39m\u001b[33m\"\u001b[39m: {\u001b[33m\"\u001b[39m\u001b[33mtype\u001b[39m\u001b[33m\"\u001b[39m: \u001b[33m\"\u001b[39m\u001b[33mconstant\u001b[39m\u001b[33m\"\u001b[39m},\n\u001b[32m     14\u001b[39m     \u001b[33m\"\u001b[39m\u001b[33mshape\u001b[39m\u001b[33m\"\u001b[39m: {\u001b[33m\"\u001b[39m\u001b[33mtype\u001b[39m\u001b[33m\"\u001b[39m: \u001b[33m\"\u001b[39m\u001b[33msphere\u001b[39m\u001b[33m\"\u001b[39m}\n\u001b[32m     15\u001b[39m })\n\u001b[32m     16\u001b[39m img = mi.render(scene, spp=\u001b[32m4\u001b[39m)\n\u001b[32m     17\u001b[39m \u001b[38;5;28mprint\u001b[39m(\u001b[33m\"\u001b[39m\u001b[33mRender OK. Backend:\u001b[39m\u001b[33m\"\u001b[39m, mi.variant(), \u001b[33m\"\u001b[39m\u001b[33mImagen shape:\u001b[39m\u001b[33m\"\u001b[39m, img.shape)\n",
      "\u001b[31mTypeError\u001b[39m: look_at(): incompatible function arguments. The following argument types are supported:\n    1. look_at(self, origin: mitsuba.ScalarPoint3f, target: mitsuba.ScalarPoint3f, up: mitsuba.ScalarPoint3f) -> mitsuba.ScalarTransform4f\n\nInvoked with types: kwargs = { origin: list, target: list, up: list }"
     ]
    }
   ],
   "source": [
    "# (Opcional) Verifica que Mitsuba pueda renderizar con el backend actual\n",
    "import mitsuba as mi\n",
    "scene = mi.load_dict({\n",
    "    \"type\": \"scene\",\n",
    "    \"integrator\": {\"type\": \"path\"},\n",
    "    \"sensor\": {\n",
    "        \"type\": \"perspective\",\n",
    "        \"to_world\": mi.ScalarTransform4f.look_at(\n",
    "            origin=[0, 0, 5], target=[0, 0, 0], up=[0, 1, 0]\n",
    "        ),\n",
    "        \"film\": {\"type\": \"hdrfilm\", \"width\": 64, \"height\": 64}\n",
    "    },\n",
    "    \"emitter\": {\"type\": \"constant\"},\n",
    "    \"shape\": {\"type\": \"sphere\"}\n",
    "})\n",
    "img = mi.render(scene, spp=4)\n",
    "print(\"Render OK. Backend:\", mi.variant(), \"Imagen shape:\", img.shape)\n"
   ]
  },
  {
   "cell_type": "code",
   "execution_count": 3,
   "id": "b07f8c83-dbd9-4605-9bed-3019d48bb3fe",
   "metadata": {},
   "outputs": [
    {
     "ename": "RuntimeError",
     "evalue": "dr.while_loop(): encountered an exception (see above).",
     "output_type": "error",
     "traceback": [
      "\u001b[31m---------------------------------------------------------------------------\u001b[39m",
      "\u001b[31mTypeError\u001b[39m                                 Traceback (most recent call last)",
      "\u001b[36mFile \u001b[39m\u001b[32m~/proyectos_dron/venv/lib/python3.11/site-packages/sionna/rt/path_solvers/sb_candidate_generator.py:403\u001b[39m, in \u001b[36m_loop_body\u001b[39m\u001b[34m(active, depth, diffuse_reflection, k_tx, max_depth, max_num_paths_per_src, mi_scene, num_targets, path_hash, paths, ray, refraction, sampler, samples_data, self, spec_counter_size, specular_chain, specular_reflection, tgt_positions)\u001b[39m\n\u001b[32m    402\u001b[39m sample2 = sampler.next_2d()\n\u001b[32m--> \u001b[39m\u001b[32m403\u001b[39m s, n = \u001b[38;5;28mself\u001b[39m._sample_radio_material(si_scene, ray.d, sample1,\n\u001b[32m    404\u001b[39m         sample2, specular_reflection, diffuse_reflection,\n\u001b[32m    405\u001b[39m         refraction, active)\n\u001b[32m    406\u001b[39m \u001b[38;5;66;03m# Direction of propagation of scattered wave in implicit world\u001b[39;00m\n\u001b[32m    407\u001b[39m \u001b[38;5;66;03m# frame\u001b[39;00m\n",
      "\u001b[36mFile \u001b[39m\u001b[32m~/proyectos_dron/venv/lib/python3.11/site-packages/sionna/rt/path_solvers/sb_candidate_generator.py:597\u001b[39m, in \u001b[36mSBCandidateGenerator._sample_radio_material\u001b[39m\u001b[34m(self, si, k_world, sample1, sample2, specular_reflection, diffuse_reflection, refraction, active)\u001b[39m\n\u001b[32m    596\u001b[39m \u001b[38;5;66;03m# Samples the radio material\u001b[39;00m\n\u001b[32m--> \u001b[39m\u001b[32m597\u001b[39m sample, _ = \u001b[43msi\u001b[49m\u001b[43m.\u001b[49m\u001b[43mbsdf\u001b[49m\u001b[43m(\u001b[49m\u001b[43m)\u001b[49m\u001b[43m.\u001b[49m\u001b[43msample\u001b[49m\u001b[43m(\u001b[49m\u001b[43mctx\u001b[49m\u001b[43m,\u001b[49m\u001b[43m \u001b[49m\u001b[43msi\u001b[49m\u001b[43m,\u001b[49m\u001b[43m \u001b[49m\u001b[43msample1\u001b[49m\u001b[43m,\u001b[49m\u001b[43m \u001b[49m\u001b[43msample2\u001b[49m\u001b[43m,\u001b[49m\u001b[43m \u001b[49m\u001b[43mactive\u001b[49m\u001b[43m)\u001b[49m\n\u001b[32m    599\u001b[39m \u001b[38;5;28;01mreturn\u001b[39;00m sample, normal_world\n",
      "\u001b[36mFile \u001b[39m\u001b[32m~/proyectos_dron/venv/lib/python3.11/site-packages/sionna/rt/radio_materials/radio_material.py:419\u001b[39m, in \u001b[36mRadioMaterial.sample\u001b[39m\u001b[34m(self, ctx, si, sample1, sample2, active)\u001b[39m\n\u001b[32m    417\u001b[39m \u001b[38;5;66;03m# Cast the Jones matrix to a mi.Spectrum to meet the requirements of\u001b[39;00m\n\u001b[32m    418\u001b[39m \u001b[38;5;66;03m# the BSDF interface\u001b[39;00m\n\u001b[32m--> \u001b[39m\u001b[32m419\u001b[39m jones_mat = \u001b[43mmi\u001b[49m\u001b[43m.\u001b[49m\u001b[43mSpectrum\u001b[49m\u001b[43m(\u001b[49m\u001b[43mjones_mat\u001b[49m\u001b[43m)\u001b[49m\n\u001b[32m    421\u001b[39m \u001b[38;5;66;03m# Instantiate and set the BSDFSample object\u001b[39;00m\n",
      "\u001b[31mTypeError\u001b[39m: mitsuba.Color3f.__init__(): Input has the wrong size (expected 3 elements, got 4).",
      "\nThe above exception was the direct cause of the following exception:\n",
      "\u001b[31mRuntimeError\u001b[39m                              Traceback (most recent call last)",
      "\u001b[36mCell\u001b[39m\u001b[36m \u001b[39m\u001b[32mIn[3]\u001b[39m\u001b[32m, line 6\u001b[39m\n\u001b[32m      3\u001b[39m \u001b[38;5;28;01mfrom\u001b[39;00m\u001b[38;5;250m \u001b[39m\u001b[34;01menv\u001b[39;00m\u001b[34;01m.\u001b[39;00m\u001b[34;01menvironment\u001b[39;00m\u001b[34;01m.\u001b[39;00m\u001b[34;01mgymnasium\u001b[39;00m\u001b[38;5;250m \u001b[39m\u001b[38;5;28;01mimport\u001b[39;00m DroneEnv\n\u001b[32m      5\u001b[39m env = DroneEnv(render_mode=\u001b[38;5;28;01mNone\u001b[39;00m, scene_name=\u001b[33m\"\u001b[39m\u001b[33mmunich\u001b[39m\u001b[33m\"\u001b[39m, max_steps=\u001b[32m600\u001b[39m)\n\u001b[32m----> \u001b[39m\u001b[32m6\u001b[39m obs, info = \u001b[43menv\u001b[49m\u001b[43m.\u001b[49m\u001b[43mreset\u001b[49m\u001b[43m(\u001b[49m\u001b[43mseed\u001b[49m\u001b[43m=\u001b[49m\u001b[32;43m0\u001b[39;49m\u001b[43m)\u001b[49m\n\u001b[32m      7\u001b[39m rx = env.receptores.positions_xyz()\n\u001b[32m      8\u001b[39m \u001b[38;5;28mprint\u001b[39m(\u001b[33mf\u001b[39m\u001b[33m\"\u001b[39m\u001b[33mReceptores: \u001b[39m\u001b[38;5;132;01m{\u001b[39;00mrx.shape[\u001b[32m0\u001b[39m]\u001b[38;5;132;01m}\u001b[39;00m\u001b[33m — Posiciones de ejemplo (m):\u001b[39m\u001b[38;5;130;01m\\n\u001b[39;00m\u001b[33m\"\u001b[39m, rx[:\u001b[32m3\u001b[39m])\n",
      "\u001b[36mFile \u001b[39m\u001b[32m~/proyectos_dron/Environment drones/env/environment/gymnasium.py:95\u001b[39m, in \u001b[36mDroneEnv.reset\u001b[39m\u001b[34m(self, seed, options)\u001b[39m\n\u001b[32m     93\u001b[39m \u001b[38;5;28mself\u001b[39m.dron = Dron()\n\u001b[32m     94\u001b[39m \u001b[38;5;28mself\u001b[39m.rt.move_tx(\u001b[38;5;28mself\u001b[39m.dron.pos)\n\u001b[32m---> \u001b[39m\u001b[32m95\u001b[39m prx = \u001b[38;5;28;43mself\u001b[39;49m\u001b[43m.\u001b[49m\u001b[43mrt\u001b[49m\u001b[43m.\u001b[49m\u001b[43mcompute_prx_dbm\u001b[49m\u001b[43m(\u001b[49m\u001b[43m)\u001b[49m\n\u001b[32m     96\u001b[39m obs = np.concatenate([\u001b[38;5;28mself\u001b[39m.dron.pos, prx]).astype(np.float32)\n\u001b[32m     97\u001b[39m info = {}\n",
      "\u001b[36mFile \u001b[39m\u001b[32m~/proyectos_dron/Environment drones/env/environment/sionna.py:178\u001b[39m, in \u001b[36mSionnaRT.compute_prx_dbm\u001b[39m\u001b[34m(self)\u001b[39m\n\u001b[32m    172\u001b[39m \u001b[38;5;250m\u001b[39m\u001b[33;03m\"\"\"\u001b[39;00m\n\u001b[32m    173\u001b[39m \u001b[33;03mDevuelve PRx por receptor [dBm].\u001b[39;00m\n\u001b[32m    174\u001b[39m \u001b[33;03mCon RT: usa Paths → CIR → suma |a|^2 → PRx = Ptx + 10log10(|h|^2).\u001b[39;00m\n\u001b[32m    175\u001b[39m \u001b[33;03mSin RT: usa FSPL LoS.\u001b[39;00m\n\u001b[32m    176\u001b[39m \u001b[33;03m\"\"\"\u001b[39;00m\n\u001b[32m    177\u001b[39m \u001b[38;5;28;01mif\u001b[39;00m \u001b[38;5;28mself\u001b[39m._sionna \u001b[38;5;129;01mand\u001b[39;00m \u001b[38;5;28mself\u001b[39m.scene \u001b[38;5;129;01mis\u001b[39;00m \u001b[38;5;129;01mnot\u001b[39;00m \u001b[38;5;28;01mNone\u001b[39;00m \u001b[38;5;129;01mand\u001b[39;00m \u001b[38;5;28mself\u001b[39m._solver \u001b[38;5;129;01mis\u001b[39;00m \u001b[38;5;129;01mnot\u001b[39;00m \u001b[38;5;28;01mNone\u001b[39;00m:\n\u001b[32m--> \u001b[39m\u001b[32m178\u001b[39m     paths = \u001b[38;5;28;43mself\u001b[39;49m\u001b[43m.\u001b[49m\u001b[43m_paths\u001b[49m\u001b[43m(\u001b[49m\u001b[43m)\u001b[49m\n\u001b[32m    179\u001b[39m     \u001b[38;5;66;03m# CIR como numpy\u001b[39;00m\n\u001b[32m    180\u001b[39m     a, _tau = paths.cir(out_type=\u001b[33m\"\u001b[39m\u001b[33mnumpy\u001b[39m\u001b[33m\"\u001b[39m)  \u001b[38;5;66;03m# a: compleja, dims dependen de configuración\u001b[39;00m\n",
      "\u001b[36mFile \u001b[39m\u001b[32m~/proyectos_dron/Environment drones/env/environment/sionna.py:159\u001b[39m, in \u001b[36mSionnaRT._paths\u001b[39m\u001b[34m(self)\u001b[39m\n\u001b[32m    158\u001b[39m \u001b[38;5;28;01mdef\u001b[39;00m\u001b[38;5;250m \u001b[39m\u001b[34m_paths\u001b[39m(\u001b[38;5;28mself\u001b[39m):\n\u001b[32m--> \u001b[39m\u001b[32m159\u001b[39m     \u001b[38;5;28;01mreturn\u001b[39;00m \u001b[38;5;28;43mself\u001b[39;49m\u001b[43m.\u001b[49m\u001b[43m_solver\u001b[49m\u001b[43m(\u001b[49m\n\u001b[32m    160\u001b[39m \u001b[43m        \u001b[49m\u001b[43mscene\u001b[49m\u001b[43m=\u001b[49m\u001b[38;5;28;43mself\u001b[39;49m\u001b[43m.\u001b[49m\u001b[43mscene\u001b[49m\u001b[43m,\u001b[49m\n\u001b[32m    161\u001b[39m \u001b[43m        \u001b[49m\u001b[43mmax_depth\u001b[49m\u001b[43m=\u001b[49m\u001b[38;5;28;43mself\u001b[39;49m\u001b[43m.\u001b[49m\u001b[43mmax_depth\u001b[49m\u001b[43m,\u001b[49m\n\u001b[32m    162\u001b[39m \u001b[43m        \u001b[49m\u001b[43mlos\u001b[49m\u001b[43m=\u001b[49m\u001b[38;5;28;43mself\u001b[39;49m\u001b[43m.\u001b[49m\u001b[43mlos\u001b[49m\u001b[43m,\u001b[49m\n\u001b[32m    163\u001b[39m \u001b[43m        \u001b[49m\u001b[43mspecular_reflection\u001b[49m\u001b[43m=\u001b[49m\u001b[38;5;28;43mself\u001b[39;49m\u001b[43m.\u001b[49m\u001b[43mspecular_reflection\u001b[49m\u001b[43m,\u001b[49m\n\u001b[32m    164\u001b[39m \u001b[43m        \u001b[49m\u001b[43mdiffuse_reflection\u001b[49m\u001b[43m=\u001b[49m\u001b[38;5;28;43mself\u001b[39;49m\u001b[43m.\u001b[49m\u001b[43mdiffuse_reflection\u001b[49m\u001b[43m,\u001b[49m\n\u001b[32m    165\u001b[39m \u001b[43m        \u001b[49m\u001b[43mrefraction\u001b[49m\u001b[43m=\u001b[49m\u001b[38;5;28;43mself\u001b[39;49m\u001b[43m.\u001b[49m\u001b[43mrefraction\u001b[49m\u001b[43m,\u001b[49m\n\u001b[32m    166\u001b[39m \u001b[43m        \u001b[49m\u001b[43msynthetic_array\u001b[49m\u001b[43m=\u001b[49m\u001b[38;5;28;43;01mFalse\u001b[39;49;00m\u001b[43m,\u001b[49m\n\u001b[32m    167\u001b[39m \u001b[43m        \u001b[49m\u001b[43mseed\u001b[49m\u001b[43m=\u001b[49m\u001b[38;5;28;43mself\u001b[39;49m\u001b[43m.\u001b[49m\u001b[43mseed\u001b[49m\u001b[43m,\u001b[49m\n\u001b[32m    168\u001b[39m \u001b[43m    \u001b[49m\u001b[43m)\u001b[49m\n",
      "\u001b[36mFile \u001b[39m\u001b[32m~/proyectos_dron/venv/lib/python3.11/site-packages/sionna/rt/path_solvers/path_solver.py:189\u001b[39m, in \u001b[36mPathSolver.__call__\u001b[39m\u001b[34m(self, scene, max_depth, max_num_paths_per_src, samples_per_src, synthetic_array, los, specular_reflection, diffuse_reflection, refraction, seed)\u001b[39m\n\u001b[32m    185\u001b[39m dr.make_opaque(src_positions, tgt_positions, src_orientations,\n\u001b[32m    186\u001b[39m                tgt_orientations)\n\u001b[32m    188\u001b[39m \u001b[38;5;66;03m# Generate candidates\u001b[39;00m\n\u001b[32m--> \u001b[39m\u001b[32m189\u001b[39m paths_buffer = \u001b[38;5;28;43mself\u001b[39;49m\u001b[43m.\u001b[49m\u001b[43m_candidate_generator\u001b[49m\u001b[43m(\u001b[49m\n\u001b[32m    190\u001b[39m \u001b[43m    \u001b[49m\u001b[43mmi_scene\u001b[49m\u001b[43m=\u001b[49m\u001b[43mscene\u001b[49m\u001b[43m.\u001b[49m\u001b[43mmi_scene\u001b[49m\u001b[43m,\u001b[49m\n\u001b[32m    191\u001b[39m \u001b[43m    \u001b[49m\u001b[43msrc_positions\u001b[49m\u001b[43m=\u001b[49m\u001b[43msrc_positions\u001b[49m\u001b[43m,\u001b[49m\n\u001b[32m    192\u001b[39m \u001b[43m    \u001b[49m\u001b[43mtgt_positions\u001b[49m\u001b[43m=\u001b[49m\u001b[43mtgt_positions\u001b[49m\u001b[43m,\u001b[49m\n\u001b[32m    193\u001b[39m \u001b[43m    \u001b[49m\u001b[43msamples_per_src\u001b[49m\u001b[43m=\u001b[49m\u001b[43msamples_per_src\u001b[49m\u001b[43m,\u001b[49m\n\u001b[32m    194\u001b[39m \u001b[43m    \u001b[49m\u001b[43mmax_num_paths_per_src\u001b[49m\u001b[43m=\u001b[49m\u001b[43mmax_num_paths_per_src\u001b[49m\u001b[43m,\u001b[49m\n\u001b[32m    195\u001b[39m \u001b[43m    \u001b[49m\u001b[43mmax_depth\u001b[49m\u001b[43m=\u001b[49m\u001b[43mmax_depth\u001b[49m\u001b[43m,\u001b[49m\n\u001b[32m    196\u001b[39m \u001b[43m    \u001b[49m\u001b[43mlos\u001b[49m\u001b[43m=\u001b[49m\u001b[43mlos\u001b[49m\u001b[43m,\u001b[49m\n\u001b[32m    197\u001b[39m \u001b[43m    \u001b[49m\u001b[43mspecular_reflection\u001b[49m\u001b[43m=\u001b[49m\u001b[43mspecular_reflection\u001b[49m\u001b[43m,\u001b[49m\n\u001b[32m    198\u001b[39m \u001b[43m    \u001b[49m\u001b[43mdiffuse_reflection\u001b[49m\u001b[43m=\u001b[49m\u001b[43mdiffuse_reflection\u001b[49m\u001b[43m,\u001b[49m\n\u001b[32m    199\u001b[39m \u001b[43m    \u001b[49m\u001b[43mrefraction\u001b[49m\u001b[43m=\u001b[49m\u001b[43mrefraction\u001b[49m\u001b[43m,\u001b[49m\n\u001b[32m    200\u001b[39m \u001b[43m    \u001b[49m\u001b[43mseed\u001b[49m\u001b[43m=\u001b[49m\u001b[43mseed\u001b[49m\n\u001b[32m    201\u001b[39m \u001b[43m\u001b[49m\u001b[43m)\u001b[49m\n\u001b[32m    203\u001b[39m paths_buffer.schedule()\n\u001b[32m    204\u001b[39m dr.eval()\n",
      "\u001b[36mFile \u001b[39m\u001b[32m~/proyectos_dron/venv/lib/python3.11/site-packages/sionna/rt/path_solvers/sb_candidate_generator.py:119\u001b[39m, in \u001b[36mSBCandidateGenerator.__call__\u001b[39m\u001b[34m(self, mi_scene, src_positions, tgt_positions, samples_per_src, max_num_paths_per_src, max_depth, los, specular_reflection, diffuse_reflection, refraction, seed)\u001b[39m\n\u001b[32m    117\u001b[39m \u001b[38;5;66;03m# Run Shooting-and-bouncing of rays if required, i.e., if max_depth > 0\u001b[39;00m\n\u001b[32m    118\u001b[39m \u001b[38;5;28;01mif\u001b[39;00m max_depth > \u001b[32m0\u001b[39m:\n\u001b[32m--> \u001b[39m\u001b[32m119\u001b[39m     \u001b[38;5;28;43mself\u001b[39;49m\u001b[43m.\u001b[49m\u001b[43m_shoot_and_bounce\u001b[49m\u001b[43m(\u001b[49m\u001b[43mmi_scene\u001b[49m\u001b[43m,\u001b[49m\u001b[43m \u001b[49m\u001b[43msrc_positions\u001b[49m\u001b[43m,\u001b[49m\u001b[43m \u001b[49m\u001b[43mtgt_positions\u001b[49m\u001b[43m,\u001b[49m\n\u001b[32m    120\u001b[39m \u001b[43m            \u001b[49m\u001b[43mpaths\u001b[49m\u001b[43m,\u001b[49m\u001b[43m \u001b[49m\u001b[43msamples_per_src\u001b[49m\u001b[43m,\u001b[49m\u001b[43m \u001b[49m\u001b[43mmax_num_paths_per_src\u001b[49m\u001b[43m,\u001b[49m\u001b[43m \u001b[49m\u001b[43mmax_depth\u001b[49m\u001b[43m,\u001b[49m\n\u001b[32m    121\u001b[39m \u001b[43m            \u001b[49m\u001b[43mpaths_counter_per_source\u001b[49m\u001b[43m,\u001b[49m\u001b[43m \u001b[49m\u001b[43mspecular_reflection\u001b[49m\u001b[43m,\u001b[49m\n\u001b[32m    122\u001b[39m \u001b[43m            \u001b[49m\u001b[43mdiffuse_reflection\u001b[49m\u001b[43m,\u001b[49m\u001b[43m \u001b[49m\u001b[43mrefraction\u001b[49m\u001b[43m)\u001b[49m\n\u001b[32m    124\u001b[39m \u001b[38;5;28;01mreturn\u001b[39;00m paths\n",
      "\u001b[36mFile \u001b[39m\u001b[32m~/proyectos_dron/venv/lib/python3.11/site-packages/sionna/rt/path_solvers/sb_candidate_generator.py:306\u001b[39m, in \u001b[36mSBCandidateGenerator._shoot_and_bounce\u001b[39m\u001b[34m(self, mi_scene, src_positions, tgt_positions, paths, samples_per_src, max_num_paths_per_src, max_depth, paths_counter_per_source, specular_reflection, diffuse_reflection, refraction)\u001b[39m\n\u001b[32m    304\u001b[39m \u001b[38;5;66;03m# Runs the shooting-and-bouncing of rays loop\u001b[39;00m\n\u001b[32m    305\u001b[39m \u001b[38;5;28;01mwith\u001b[39;00m dr.scoped_set_flag(dr.JitFlag.OptimizeLoops, \u001b[38;5;28;01mFalse\u001b[39;00m):\n\u001b[32m--> \u001b[39m\u001b[32m306\u001b[39m     \u001b[38;5;28;43mself\u001b[39;49m\u001b[43m.\u001b[49m\u001b[43m_shoot_and_bounce_loop\u001b[49m\u001b[43m(\u001b[49m\u001b[43mmi_scene\u001b[49m\u001b[43m,\u001b[49m\u001b[43m \u001b[49m\u001b[43msrc_positions\u001b[49m\u001b[43m,\u001b[49m\u001b[43m \u001b[49m\u001b[43mtgt_positions\u001b[49m\u001b[43m,\u001b[49m\n\u001b[32m    307\u001b[39m \u001b[43m        \u001b[49m\u001b[43msamples_per_src\u001b[49m\u001b[43m,\u001b[49m\u001b[43m \u001b[49m\u001b[43mmax_num_paths_per_src\u001b[49m\u001b[43m,\u001b[49m\u001b[43m \u001b[49m\u001b[43mmax_depth\u001b[49m\u001b[43m,\u001b[49m\u001b[43m \u001b[49m\u001b[43mpaths\u001b[49m\u001b[43m,\u001b[49m\n\u001b[32m    308\u001b[39m \u001b[43m        \u001b[49m\u001b[43mpaths_counter_per_source\u001b[49m\u001b[43m,\u001b[49m\u001b[43m \u001b[49m\u001b[43mspecular_chain_counter\u001b[49m\u001b[43m,\u001b[49m\n\u001b[32m    309\u001b[39m \u001b[43m        \u001b[49m\u001b[43mspecular_reflection\u001b[49m\u001b[43m,\u001b[49m\u001b[43m \u001b[49m\u001b[43mdiffuse_reflection\u001b[49m\u001b[43m,\u001b[49m\u001b[43m \u001b[49m\u001b[43mrefraction\u001b[49m\u001b[43m,\u001b[49m\n\u001b[32m    310\u001b[39m \u001b[43m        \u001b[49m\u001b[38;5;28;43mself\u001b[39;49m\u001b[43m.\u001b[49m\u001b[43m_sampler\u001b[49m\u001b[43m)\u001b[49m\n",
      "\u001b[36mFile \u001b[39m\u001b[32m~/proyectos_dron/venv/lib/python3.11/site-packages/sionna/rt/path_solvers/sb_candidate_generator.py:381\u001b[39m, in \u001b[36mSBCandidateGenerator._shoot_and_bounce_loop\u001b[39m\u001b[34m(self, mi_scene, src_positions, tgt_positions, samples_per_src, max_num_paths_per_src, max_depth, paths, paths_counter_per_source, specular_chain_counter, specular_reflection, diffuse_reflection, refraction, sampler)\u001b[39m\n\u001b[32m    376\u001b[39m active = dr.full(mi.Mask, \u001b[38;5;28;01mTrue\u001b[39;00m, num_samples)\n\u001b[32m    378\u001b[39m \u001b[38;5;66;03m# Note: here and in the inner loop, we explicitly exclude some non-state\u001b[39;00m\n\u001b[32m    379\u001b[39m \u001b[38;5;66;03m# variables from the loop state so that DrJit doesn't have to trace\u001b[39;00m\n\u001b[32m    380\u001b[39m \u001b[38;5;66;03m# the loop body twice to figure it out.\u001b[39;00m\n\u001b[32m--> \u001b[39m\u001b[32m381\u001b[39m \u001b[38;5;28;01mwhile\u001b[39;00m dr.hint(active, label=\u001b[33m\"\u001b[39m\u001b[33mshoot_and_bounce\u001b[39m\u001b[33m\"\u001b[39m, exclude=[\n\u001b[32m    382\u001b[39m     specular_chain_counter,\n\u001b[32m    383\u001b[39m     paths_counter_per_source,\n\u001b[32m    384\u001b[39m ]):\n\u001b[32m    385\u001b[39m \n\u001b[32m    386\u001b[39m     \u001b[38;5;66;03m########################################################\u001b[39;00m\n\u001b[32m    387\u001b[39m     \u001b[38;5;66;03m# Test intersection with the scene and evaluate the\u001b[39;00m\n\u001b[32m    388\u001b[39m     \u001b[38;5;66;03m# intersection\u001b[39;00m\n\u001b[32m    389\u001b[39m     \u001b[38;5;66;03m########################################################\u001b[39;00m\n\u001b[32m    390\u001b[39m \n\u001b[32m    391\u001b[39m     \u001b[38;5;66;03m# Test intersection with the scene\u001b[39;00m\n\u001b[32m    392\u001b[39m     si_scene = mi_scene.ray_intersect(ray, coherent=\u001b[38;5;28;01mTrue\u001b[39;00m,\n\u001b[32m    393\u001b[39m                                       ray_flags=mi.RayFlags.Minimal,\n\u001b[32m    394\u001b[39m                                       active=active)\n\u001b[32m    396\u001b[39m     \u001b[38;5;66;03m# Deactivate rays that didn't hit the scene, i.e., that bounce-out\u001b[39;00m\n\u001b[32m    397\u001b[39m     \u001b[38;5;66;03m# of the scene\u001b[39;00m\n",
      "\u001b[31mRuntimeError\u001b[39m: dr.while_loop(): encountered an exception (see above)."
     ]
    }
   ],
   "source": [
    "# ===== 2) Crear env con escena Munich (sin render interno) =====\n",
    "import numpy as np\n",
    "from env.environment.gymnasium import DroneEnv\n",
    "\n",
    "env = DroneEnv(render_mode=None, scene_name=\"munich\", max_steps=600)\n",
    "obs, info = env.reset(seed=0)\n",
    "rx = env.receptores.positions_xyz()\n",
    "print(f\"Receptores: {rx.shape[0]} — Posiciones de ejemplo (m):\\n\", rx[:3])\n",
    "\n"
   ]
  },
  {
   "cell_type": "code",
   "execution_count": null,
   "id": "f92b7a6b-226e-4d93-a3a7-72c02fc79d21",
   "metadata": {},
   "outputs": [],
   "source": [
    "# ===== 3) Render de fondo (una sola vez) =====\n",
    "from sionna.rt import Camera\n",
    "from IPython.display import Image, display\n",
    "\n",
    "# Extent automático según bounds del dron\n",
    "bx, by, bz = env.dron.bounds\n",
    "extent = [bx[0], bx[1], by[0], by[1]]\n",
    "\n",
    "bg_png = project_root / \"munich_bg.png\"\n",
    "\n",
    "# Cámara top-down centrada en la caja de trabajo\n",
    "cx = 0.5*(bx[0] + bx[1])\n",
    "cy = 0.5*(by[0] + by[1])\n",
    "cam = Camera(position=[cx, cy, 300], look_at=[cx, cy, 0])  # ajusta altura si quieres\n",
    "\n",
    "env.rt.scene.render_to_file(camera=cam, filename=str(bg_png), resolution=[900, 900])\n",
    "display(Image(filename=str(bg_png)))\n",
    "print(\"Fondo guardado en:\", bg_png, \"\\nExtent usado:\", extent)\n",
    "\n"
   ]
  },
  {
   "cell_type": "code",
   "execution_count": null,
   "id": "5ca1b032-a2b6-41c8-8b50-827eb7b90728",
   "metadata": {},
   "outputs": [],
   "source": [
    "# ===== 4) Figura con fondo + artistas (dron y receptores) =====\n",
    "import matplotlib.pyplot as plt\n",
    "\n",
    "fig, ax = plt.subplots(figsize=(6, 6), dpi=100)\n",
    "\n",
    "# Carga el fondo\n",
    "bg_img = plt.imread(bg_png)\n",
    "ax.imshow(bg_img, extent=extent, zorder=-1)\n",
    "\n",
    "ax.set_title(\"Cobertura (PRx dBm) — Munich RT\")\n",
    "ax.set_xlabel(\"x [m]\")\n",
    "ax.set_ylabel(\"y [m]\")\n",
    "ax.set_aspect(\"equal\", adjustable=\"box\")\n",
    "ax.grid(True, alpha=0.3)\n",
    "\n",
    "# Artists: dron + receptores (colores por PRx)\n",
    "prx = env.rt.compute_prx_dbm()\n",
    "drone_sc = ax.scatter([env.dron.pos[0]], [env.dron.pos[1]], s=120, marker=\"^\", zorder=2)\n",
    "rx_sc = ax.scatter(rx[:, 0], rx[:, 1], s=80, c=prx, cmap=\"viridis\", zorder=2)\n",
    "cbar = fig.colorbar(rx_sc, ax=ax, label=\"PRx [dBm]\")\n",
    "\n",
    "# Etiquetas por receptor (opcionales)\n",
    "rx_texts = [ax.text(x+1, y+1, f\"{v:.1f} dBm\", fontsize=8) for (x,y,_), v in zip(rx, prx)]\n",
    "\n",
    "plt.show()\n",
    "\n"
   ]
  },
  {
   "cell_type": "code",
   "execution_count": null,
   "id": "720370be-24dc-4116-a2f3-568fb43d2f0b",
   "metadata": {},
   "outputs": [],
   "source": [
    "# ===== 5) Animación (actualiza solo artists) =====\n",
    "import time\n",
    "\n",
    "for t in range(240):  # ~16 s a 15 fps\n",
    "    # Acción: órbita suave en XY\n",
    "    a = np.array([3.0*np.cos(t/15), 3.0*np.sin(t/15), 0.0], dtype=float)\n",
    "    obs, rew, done, trunc, info = env.step(a)\n",
    "    prx = info[\"prx_dbm\"]  # PRx(dBm) ya calculado por el env\n",
    "\n",
    "    # Actualizaciones livianas\n",
    "    drone_sc.set_offsets([[env.dron.pos[0], env.dron.pos[1]]])\n",
    "    rx_sc.set_array(prx)\n",
    "    for txt, (x, y, _), v in zip(rx_texts, rx, prx):\n",
    "        txt.set_position((x+1, y+1))\n",
    "        txt.set_text(f\"{v:.1f} dBm\")\n",
    "    cbar.update_normal(rx_sc)\n",
    "\n",
    "    fig.canvas.draw()\n",
    "    fig.canvas.flush_events()\n",
    "    time.sleep(1/15)\n",
    "\n",
    "    if done or trunc:\n",
    "        break\n",
    "\n",
    "print(\"Animación terminada.\")\n",
    "\n"
   ]
  },
  {
   "cell_type": "code",
   "execution_count": null,
   "id": "9c20058f-17db-4a5e-b06c-8a8f20b485d2",
   "metadata": {},
   "outputs": [],
   "source": [
    "# ===== 6) Limpieza =====\n",
    "env.close()\n",
    "plt.close(fig)\n"
   ]
  },
  {
   "cell_type": "code",
   "execution_count": null,
   "id": "42b9292a-3b1d-4c5d-b042-21cee506bb3c",
   "metadata": {},
   "outputs": [],
   "source": []
  }
 ],
 "metadata": {
  "kernelspec": {
   "display_name": "Python (proyectos_dron)",
   "language": "python",
   "name": "proyectos_dron"
  },
  "language_info": {
   "codemirror_mode": {
    "name": "ipython",
    "version": 3
   },
   "file_extension": ".py",
   "mimetype": "text/x-python",
   "name": "python",
   "nbconvert_exporter": "python",
   "pygments_lexer": "ipython3",
   "version": "3.11.13"
  }
 },
 "nbformat": 4,
 "nbformat_minor": 5
}
